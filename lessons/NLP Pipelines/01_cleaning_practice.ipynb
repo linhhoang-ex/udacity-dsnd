{
 "cells": [
  {
   "cell_type": "markdown",
   "metadata": {},
   "source": [
    "# Cleaning Quiz: \n",
    "It's your turn! The [E.T. The Extra-terrestrial page](https://www.rottentomatoes.com/m/et_the_extraterrestrial) has a lot of information on this movie.\n",
    "\n",
    "In this activity, you're going to perform similar actions with BeautifulSoup to extract the following information from each actor or actress listing on the page:\n",
    "1. The actor/actress name - e.g. \"Henry Thomas\"\n",
    "2. The role - e.g. \"Elliott\"\n",
    "\n",
    "**Note: All solution notebooks can be found by clicking on the Jupyter icon on the top left of this workspace.**"
   ]
  },
  {
   "cell_type": "markdown",
   "metadata": {},
   "source": [
    "### Step 1: Get text from the movie web page\n",
    "You can use the `requests` library to do this.\n",
    "\n",
    "Outputting all the javascript, CSS, and text may overload the space available to load this notebook, so we omit a print statement here."
   ]
  },
  {
   "cell_type": "code",
   "execution_count": 12,
   "metadata": {},
   "outputs": [],
   "source": [
    "# import statements\n",
    "import requests\n",
    "from bs4 import BeautifulSoup"
   ]
  },
  {
   "cell_type": "code",
   "execution_count": 13,
   "metadata": {},
   "outputs": [],
   "source": [
    "# fetch web page\n",
    "r = requests.get(\"https://www.rottentomatoes.com/m/et_the_extraterrestrial\")\n",
    "# print(r.text)"
   ]
  },
  {
   "cell_type": "markdown",
   "metadata": {},
   "source": [
    "### Step 2: Use BeautifulSoup to remove HTML tags\n",
    "Use `\"lxml\"` rather than `\"html5lib\"`.\n",
    "\n",
    "Again, printing this entire result may overload the space available to load this notebook, so we omit a print statement here."
   ]
  },
  {
   "cell_type": "code",
   "execution_count": 14,
   "metadata": {},
   "outputs": [],
   "source": [
    "soup = BeautifulSoup(r.text, 'lxml')\n",
    "# print(soup.get_text())"
   ]
  },
  {
   "cell_type": "markdown",
   "metadata": {},
   "source": [
    "### Step 3: Find all cast crew members\n",
    "Use the BeautifulSoup's `find_all` method to select based on tag type and class name. Just like in the video, you can right click on the item, and click \"Inspect\" to view its html on a web page.\n",
    "\n",
    "Hint: using \"class\" may not give you the all the information, you can try something else other than \"class\"."
   ]
  },
  {
   "cell_type": "code",
   "execution_count": 15,
   "metadata": {},
   "outputs": [
    {
     "name": "stdout",
     "output_type": "stream",
     "text": [
      "Number of actor in the cast crew: 6\n"
     ]
    }
   ],
   "source": [
    "# Find all cast crew summaries\n",
    "crew = soup.find_all('a', {'data-qa': 'person-item'})\n",
    "print('Number of actor in the cast crew:', len(crew))"
   ]
  },
  {
   "cell_type": "markdown",
   "metadata": {},
   "source": [
    "### Step 4: Inspect the first crew member to find tags for the memeber's name and role\n",
    "Tip: `.prettify()` is a super helpful method BeautifulSoup provides to output html in a nicely indented form! Make sure to use `print()` to ensure whitespace is displayed properly."
   ]
  },
  {
   "cell_type": "code",
   "execution_count": 16,
   "metadata": {},
   "outputs": [
    {
     "name": "stdout",
     "output_type": "stream",
     "text": [
      "<a data-qa=\"person-item\" href=\"/celebrity/steve_spielberg\">\n",
      " <tile-dynamic skeleton=\"panel\">\n",
      "  <rt-img alt=\"Steven Spielberg thumbnail image\" aria-hidden=\"true\" loading=\"lazy\" slot=\"image\" src=\"https://resizing.flixster.com/mKAoFaKWC96xoazvoRKdYKyvchI=/100x120/v2/https://resizing.flixster.com/-XZAfHZM39UwaGJIFWKAE8fS0ak=/v3/t/assets/1672_v9_bc.jpg\">\n",
      "  </rt-img>\n",
      "  <div aria-label=\"Steven Spielberg, Director\" slot=\"insetText\">\n",
      "   <p class=\"name\" data-qa=\"person-name\">\n",
      "    Steven Spielberg\n",
      "   </p>\n",
      "   <p class=\"role\" data-qa=\"person-role\">\n",
      "    Director\n",
      "   </p>\n",
      "  </div>\n",
      " </tile-dynamic>\n",
      "</a>\n",
      "\n"
     ]
    }
   ],
   "source": [
    "# print the first summary in crew\n",
    "print(crew[0].prettify())"
   ]
  },
  {
   "cell_type": "markdown",
   "metadata": {},
   "source": [
    "Look for tags that contain the actor/actress's name and the role that you want to extract. Then, use the `find_all` method on the crew object to pull out the html with those tags. Afterwards, don't forget to do some extra cleaning to isolate the names (get rid of unnecessary html), as you saw in the last video."
   ]
  },
  {
   "cell_type": "code",
   "execution_count": 17,
   "metadata": {},
   "outputs": [
    {
     "data": {
      "text/plain": [
       "'Steven Spielberg'"
      ]
     },
     "execution_count": 17,
     "metadata": {},
     "output_type": "execute_result"
    }
   ],
   "source": [
    "# Extract name\n",
    "crew[0].find_all('p', {\"data-qa\": \"person-name\"})[0].get_text().strip()"
   ]
  },
  {
   "cell_type": "code",
   "execution_count": 18,
   "metadata": {},
   "outputs": [
    {
     "data": {
      "text/plain": [
       "'Director'"
      ]
     },
     "execution_count": 18,
     "metadata": {},
     "output_type": "execute_result"
    }
   ],
   "source": [
    "# Extract role\n",
    "crew[0].find_all('p', {\"data-qa\": \"person-role\"})[0].get_text().strip()"
   ]
  },
  {
   "cell_type": "markdown",
   "metadata": {},
   "source": [
    "### Step 5: Collect names and roles of ALL memeber listings\n",
    "Reuse your code from the previous step, but now in a loop to extract the name and role from every crew summary in `crew`!"
   ]
  },
  {
   "cell_type": "code",
   "execution_count": 19,
   "metadata": {},
   "outputs": [],
   "source": [
    "name_role = []\n",
    "for summary in crew:\n",
    "    # append name and role of each summary to name_role list\n",
    "    name_role.append(\n",
    "        (summary.find_all('p', {\"data-qa\": \"person-name\"})[0].get_text().strip(),\n",
    "         summary.find_all('p', {\"data-qa\": \"person-role\"})[0].get_text().strip())\n",
    "    )"
   ]
  },
  {
   "cell_type": "code",
   "execution_count": 20,
   "metadata": {},
   "outputs": [
    {
     "name": "stdout",
     "output_type": "stream",
     "text": [
      "6  actors found in cast crew. Sample:\n"
     ]
    },
    {
     "data": {
      "text/plain": [
       "[('Steven Spielberg', 'Director'),\n",
       " ('Henry Thomas', 'Elliott'),\n",
       " ('Dee Wallace', 'Mary'),\n",
       " ('Peter Coyote', 'Keys'),\n",
       " ('Drew Barrymore', 'Gertie')]"
      ]
     },
     "execution_count": 20,
     "metadata": {},
     "output_type": "execute_result"
    }
   ],
   "source": [
    "# display results\n",
    "print(len(name_role), \" actors found in cast crew. Sample:\")\n",
    "name_role[:5]"
   ]
  }
 ],
 "metadata": {
  "kernelspec": {
   "display_name": "udacity-env",
   "language": "python",
   "name": "python3"
  },
  "language_info": {
   "codemirror_mode": {
    "name": "ipython",
    "version": 3
   },
   "file_extension": ".py",
   "mimetype": "text/x-python",
   "name": "python",
   "nbconvert_exporter": "python",
   "pygments_lexer": "ipython3",
   "version": "3.12.7"
  }
 },
 "nbformat": 4,
 "nbformat_minor": 2
}
